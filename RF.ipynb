{
  "nbformat": 4,
  "nbformat_minor": 0,
  "metadata": {
    "colab": {
      "provenance": []
    },
    "kernelspec": {
      "name": "python3",
      "display_name": "Python 3"
    },
    "language_info": {
      "name": "python"
    }
  },
  "cells": [
    {
      "cell_type": "code",
      "execution_count": 314,
      "metadata": {
        "colab": {
          "base_uri": "https://localhost:8080/"
        },
        "id": "IJj8knILXPc7",
        "outputId": "d16d49ba-5367-480c-d0e9-6bd5c34a80e6"
      },
      "outputs": [
        {
          "output_type": "stream",
          "name": "stdout",
          "text": [
            "fatal: destination path 'Datasets' already exists and is not an empty directory.\n"
          ]
        }
      ],
      "source": [
        "!git clone https://github.com/jbrownlee/Datasets.git"
      ]
    },
    {
      "cell_type": "code",
      "source": [
        "!pip install -U imbalanced-learn"
      ],
      "metadata": {
        "colab": {
          "base_uri": "https://localhost:8080/"
        },
        "id": "gWOH_do5cxwa",
        "outputId": "7ee66484-ff50-4139-aad1-387d3c8b5694"
      },
      "execution_count": 315,
      "outputs": [
        {
          "output_type": "stream",
          "name": "stdout",
          "text": [
            "Looking in indexes: https://pypi.org/simple, https://us-python.pkg.dev/colab-wheels/public/simple/\n",
            "Requirement already satisfied: imbalanced-learn in /usr/local/lib/python3.8/dist-packages (0.10.1)\n",
            "Requirement already satisfied: scipy>=1.3.2 in /usr/local/lib/python3.8/dist-packages (from imbalanced-learn) (1.7.3)\n",
            "Requirement already satisfied: numpy>=1.17.3 in /usr/local/lib/python3.8/dist-packages (from imbalanced-learn) (1.21.6)\n",
            "Requirement already satisfied: joblib>=1.1.1 in /usr/local/lib/python3.8/dist-packages (from imbalanced-learn) (1.2.0)\n",
            "Requirement already satisfied: threadpoolctl>=2.0.0 in /usr/local/lib/python3.8/dist-packages (from imbalanced-learn) (3.1.0)\n",
            "Requirement already satisfied: scikit-learn>=1.0.2 in /usr/local/lib/python3.8/dist-packages (from imbalanced-learn) (1.2.0)\n"
          ]
        }
      ]
    },
    {
      "cell_type": "code",
      "source": [
        "!pip install -U scikit-learn"
      ],
      "metadata": {
        "colab": {
          "base_uri": "https://localhost:8080/"
        },
        "id": "GQfN2tnzdF6V",
        "outputId": "daaa3d31-d6af-4195-aebd-1e39750db259"
      },
      "execution_count": 316,
      "outputs": [
        {
          "output_type": "stream",
          "name": "stdout",
          "text": [
            "Looking in indexes: https://pypi.org/simple, https://us-python.pkg.dev/colab-wheels/public/simple/\n",
            "Requirement already satisfied: scikit-learn in /usr/local/lib/python3.8/dist-packages (1.2.0)\n",
            "Requirement already satisfied: numpy>=1.17.3 in /usr/local/lib/python3.8/dist-packages (from scikit-learn) (1.21.6)\n",
            "Requirement already satisfied: threadpoolctl>=2.0.0 in /usr/local/lib/python3.8/dist-packages (from scikit-learn) (3.1.0)\n",
            "Requirement already satisfied: scipy>=1.3.2 in /usr/local/lib/python3.8/dist-packages (from scikit-learn) (1.7.3)\n",
            "Requirement already satisfied: joblib>=1.1.1 in /usr/local/lib/python3.8/dist-packages (from scikit-learn) (1.2.0)\n"
          ]
        }
      ]
    },
    {
      "cell_type": "code",
      "source": [
        "import pandas as pd\n",
        "import numpy as np\n",
        "from sklearn.model_selection import train_test_split\n",
        "from imblearn.over_sampling import SMOTE\n",
        "\n",
        "df = pd.read_csv(\"/content/Datasets/oil-spill.csv\")"
      ],
      "metadata": {
        "id": "VFf45ciPXmzO"
      },
      "execution_count": 317,
      "outputs": []
    },
    {
      "cell_type": "code",
      "source": [
        "num_zeros = (df.iloc[:, 49] == 0).sum()\n",
        "num_ones = (df.iloc[:, 49] == 1).sum()\n",
        "print(num_zeros, num_ones, num_zeros/num_ones)"
      ],
      "metadata": {
        "colab": {
          "base_uri": "https://localhost:8080/"
        },
        "id": "sW6IYhD0Yh3r",
        "outputId": "5cdc1e24-a730-4f63-bd3d-cc59934cea57"
      },
      "execution_count": 318,
      "outputs": [
        {
          "output_type": "stream",
          "name": "stdout",
          "text": [
            "896 40 22.4\n"
          ]
        }
      ]
    },
    {
      "cell_type": "code",
      "source": [
        "from sklearn.ensemble import RandomForestClassifier\n",
        "from sklearn.model_selection import train_test_split\n",
        "from imblearn.under_sampling import RandomUnderSampler"
      ],
      "metadata": {
        "id": "QS9QHRUQmpvv"
      },
      "execution_count": 319,
      "outputs": []
    },
    {
      "cell_type": "markdown",
      "source": [
        "##Duplicating"
      ],
      "metadata": {
        "id": "chA-aj4BnK6g"
      }
    },
    {
      "cell_type": "code",
      "source": [
        "# Make a copy of the DataFrame\n",
        "df_copy = df.copy()\n",
        "\n",
        "# Duplicate the DataFrame exactly 2x\n",
        "df_2x = pd.concat([df, df_copy])\n",
        "\n",
        "# Duplicate the DataFrame exactly 5x\n",
        "df_list = [df] * 5\n",
        "df_5x = pd.concat(df_list)\n",
        "\n",
        "# Duplicate the DataFrame exactly 10x\n",
        "df_list = [df] * 10\n",
        "df_10x = pd.concat(df_list)"
      ],
      "metadata": {
        "id": "LjDYzu6WdbI4"
      },
      "execution_count": 320,
      "outputs": []
    },
    {
      "cell_type": "markdown",
      "source": [
        "##Train Test Split for all datasets"
      ],
      "metadata": {
        "id": "m8jGpa8JnPWw"
      }
    },
    {
      "cell_type": "code",
      "source": [
        "# Split the dataset into features and labels\n",
        "X = df.drop(df.columns[49], axis=1)\n",
        "y = df[df.columns[49]]\n",
        "\n",
        "# Split the dataset into training and testing sets\n",
        "X_train, X_test, y_train, y_test = train_test_split(X, y, test_size=0.2)\n",
        "\n",
        "\n",
        "#------------------------------------2X-----------------------------------\n",
        "X_2x = df_2x.drop(df_2x.columns[49], axis=1)\n",
        "y_2x = df_2x[df_2x.columns[49]]\n",
        "\n",
        "X_train_2x, X_test_2x, y_train_2x, y_test_2x = train_test_split(X_2x, y_2x, test_size=0.2)\n",
        "\n",
        "\n",
        "#------------------------------------5X-----------------------------------\n",
        "X_5x = df_5x.drop(df_5x.columns[49], axis=1)\n",
        "y_5x = df_5x[df_5x.columns[49]]\n",
        "\n",
        "X_train_5x, X_test_5x, y_train_5x, y_test_5x = train_test_split(X_5x, y_5x, test_size=0.2)\n",
        "\n",
        "\n",
        "#------------------------------------10X-----------------------------------\n",
        "X_10x = df_10x.drop(df_10x.columns[49], axis=1)\n",
        "y_10x = df_10x[df_10x.columns[49]]\n",
        "\n",
        "X_train_10x, X_test_10x, y_train_10x, y_test_10x = train_test_split(X_10x, y_10x, test_size=0.2)"
      ],
      "metadata": {
        "id": "DY1JNP5th6z9"
      },
      "execution_count": 321,
      "outputs": []
    },
    {
      "cell_type": "markdown",
      "source": [
        "#**Standard Random Forest Classifier**"
      ],
      "metadata": {
        "id": "iNInblYRjr2b"
      }
    },
    {
      "cell_type": "code",
      "source": [
        "from sklearn.ensemble import RandomForestClassifier\n",
        "\n",
        "#train random forest classifier on the train set\n",
        "rf = RandomForestClassifier()\n",
        "rf.fit(X_train, y_train)\n",
        "\n",
        "#------------------------------------2X-----------------------------------\n",
        "rf_2x = RandomForestClassifier()\n",
        "rf_2x.fit(X_train_2x, y_train_2x)\n",
        "\n",
        "#------------------------------------5X-----------------------------------\n",
        "rf_5x = RandomForestClassifier()\n",
        "rf_5x.fit(X_train_5x, y_train_5x)\n",
        "\n",
        "#------------------------------------10X-----------------------------------\n",
        "rf_10x = RandomForestClassifier()\n",
        "rf_10x.fit(X_train_10x, y_train_10x)"
      ],
      "metadata": {
        "colab": {
          "base_uri": "https://localhost:8080/",
          "height": 75
        },
        "id": "FXLR6M04jrJ5",
        "outputId": "6a8b66ac-2f3b-452c-da45-621e3c8f7e7e"
      },
      "execution_count": 322,
      "outputs": [
        {
          "output_type": "execute_result",
          "data": {
            "text/plain": [
              "RandomForestClassifier()"
            ],
            "text/html": [
              "<style>#sk-container-id-52 {color: black;background-color: white;}#sk-container-id-52 pre{padding: 0;}#sk-container-id-52 div.sk-toggleable {background-color: white;}#sk-container-id-52 label.sk-toggleable__label {cursor: pointer;display: block;width: 100%;margin-bottom: 0;padding: 0.3em;box-sizing: border-box;text-align: center;}#sk-container-id-52 label.sk-toggleable__label-arrow:before {content: \"▸\";float: left;margin-right: 0.25em;color: #696969;}#sk-container-id-52 label.sk-toggleable__label-arrow:hover:before {color: black;}#sk-container-id-52 div.sk-estimator:hover label.sk-toggleable__label-arrow:before {color: black;}#sk-container-id-52 div.sk-toggleable__content {max-height: 0;max-width: 0;overflow: hidden;text-align: left;background-color: #f0f8ff;}#sk-container-id-52 div.sk-toggleable__content pre {margin: 0.2em;color: black;border-radius: 0.25em;background-color: #f0f8ff;}#sk-container-id-52 input.sk-toggleable__control:checked~div.sk-toggleable__content {max-height: 200px;max-width: 100%;overflow: auto;}#sk-container-id-52 input.sk-toggleable__control:checked~label.sk-toggleable__label-arrow:before {content: \"▾\";}#sk-container-id-52 div.sk-estimator input.sk-toggleable__control:checked~label.sk-toggleable__label {background-color: #d4ebff;}#sk-container-id-52 div.sk-label input.sk-toggleable__control:checked~label.sk-toggleable__label {background-color: #d4ebff;}#sk-container-id-52 input.sk-hidden--visually {border: 0;clip: rect(1px 1px 1px 1px);clip: rect(1px, 1px, 1px, 1px);height: 1px;margin: -1px;overflow: hidden;padding: 0;position: absolute;width: 1px;}#sk-container-id-52 div.sk-estimator {font-family: monospace;background-color: #f0f8ff;border: 1px dotted black;border-radius: 0.25em;box-sizing: border-box;margin-bottom: 0.5em;}#sk-container-id-52 div.sk-estimator:hover {background-color: #d4ebff;}#sk-container-id-52 div.sk-parallel-item::after {content: \"\";width: 100%;border-bottom: 1px solid gray;flex-grow: 1;}#sk-container-id-52 div.sk-label:hover label.sk-toggleable__label {background-color: #d4ebff;}#sk-container-id-52 div.sk-serial::before {content: \"\";position: absolute;border-left: 1px solid gray;box-sizing: border-box;top: 0;bottom: 0;left: 50%;z-index: 0;}#sk-container-id-52 div.sk-serial {display: flex;flex-direction: column;align-items: center;background-color: white;padding-right: 0.2em;padding-left: 0.2em;position: relative;}#sk-container-id-52 div.sk-item {position: relative;z-index: 1;}#sk-container-id-52 div.sk-parallel {display: flex;align-items: stretch;justify-content: center;background-color: white;position: relative;}#sk-container-id-52 div.sk-item::before, #sk-container-id-52 div.sk-parallel-item::before {content: \"\";position: absolute;border-left: 1px solid gray;box-sizing: border-box;top: 0;bottom: 0;left: 50%;z-index: -1;}#sk-container-id-52 div.sk-parallel-item {display: flex;flex-direction: column;z-index: 1;position: relative;background-color: white;}#sk-container-id-52 div.sk-parallel-item:first-child::after {align-self: flex-end;width: 50%;}#sk-container-id-52 div.sk-parallel-item:last-child::after {align-self: flex-start;width: 50%;}#sk-container-id-52 div.sk-parallel-item:only-child::after {width: 0;}#sk-container-id-52 div.sk-dashed-wrapped {border: 1px dashed gray;margin: 0 0.4em 0.5em 0.4em;box-sizing: border-box;padding-bottom: 0.4em;background-color: white;}#sk-container-id-52 div.sk-label label {font-family: monospace;font-weight: bold;display: inline-block;line-height: 1.2em;}#sk-container-id-52 div.sk-label-container {text-align: center;}#sk-container-id-52 div.sk-container {/* jupyter's `normalize.less` sets `[hidden] { display: none; }` but bootstrap.min.css set `[hidden] { display: none !important; }` so we also need the `!important` here to be able to override the default hidden behavior on the sphinx rendered scikit-learn.org. See: https://github.com/scikit-learn/scikit-learn/issues/21755 */display: inline-block !important;position: relative;}#sk-container-id-52 div.sk-text-repr-fallback {display: none;}</style><div id=\"sk-container-id-52\" class=\"sk-top-container\"><div class=\"sk-text-repr-fallback\"><pre>RandomForestClassifier()</pre><b>In a Jupyter environment, please rerun this cell to show the HTML representation or trust the notebook. <br />On GitHub, the HTML representation is unable to render, please try loading this page with nbviewer.org.</b></div><div class=\"sk-container\" hidden><div class=\"sk-item\"><div class=\"sk-estimator sk-toggleable\"><input class=\"sk-toggleable__control sk-hidden--visually\" id=\"sk-estimator-id-52\" type=\"checkbox\" checked><label for=\"sk-estimator-id-52\" class=\"sk-toggleable__label sk-toggleable__label-arrow\">RandomForestClassifier</label><div class=\"sk-toggleable__content\"><pre>RandomForestClassifier()</pre></div></div></div></div></div>"
            ]
          },
          "metadata": {},
          "execution_count": 322
        }
      ]
    },
    {
      "cell_type": "code",
      "source": [
        "# Make predictions on the test set\n",
        "y_pred = rf.predict(X_test)\n",
        "accuracy = rf.score(X_test, y_test)\n",
        "\n",
        "y_pred_2x = rf_2x.predict(X_test_2x)\n",
        "accuracy_2x = rf_2x.score(X_test_2x, y_test_2x)\n",
        "\n",
        "y_pred_5x = rf_5x.predict(X_test_5x)\n",
        "accuracy_5x = rf_5x.score(X_test_5x, y_test_5x)\n",
        "\n",
        "y_pred_10x = rf_10x.predict(X_test_10x)\n",
        "accuracy_10x = rf_10x.score(X_test_10x, y_test_10x)"
      ],
      "metadata": {
        "id": "32k8NINYqWoP"
      },
      "execution_count": 323,
      "outputs": []
    },
    {
      "cell_type": "code",
      "source": [
        "from sklearn.metrics import precision_recall_fscore_support\n",
        "precision, recall, fscore, support = precision_recall_fscore_support(y_test, y_pred)\n",
        "\n",
        "precision_2x, recall_2x, fscore_2x, support_2x = precision_recall_fscore_support(y_test_2x, y_pred_2x)\n",
        "\n",
        "precision_5x, recall_5x, fscore_5x, support_5x = precision_recall_fscore_support(y_test_5x, y_pred_5x)\n",
        "\n",
        "precision_10x, recall_10x, fscore_10x, support_10x = precision_recall_fscore_support(y_test_10x, y_pred_10x)\n",
        "\n",
        "\n",
        "# Print the evaluation metrics\n",
        "print(\"Original:\")\n",
        "print(\"Accuracy:\", accuracy)\n",
        "print(\"Precision:\", precision)\n",
        "print(\"Recall:\", recall)\n",
        "print(\"F-score:\", fscore)\n",
        "#------------------------------------2X-----------------------------------\n",
        "print(\"2x:\")\n",
        "print(\"Accuracy:\", accuracy_2x)\n",
        "print(\"Precision:\", precision_2x)\n",
        "print(\"Recall:\", recall_2x)\n",
        "print(\"F-score:\", fscore_2x)\n",
        "#------------------------------------5X-----------------------------------\n",
        "print(\"5x:\")\n",
        "print(\"Accuracy:\", accuracy_5x)\n",
        "print(\"Precision:\", precision_5x)\n",
        "print(\"Recall:\", recall_5x)\n",
        "print(\"F-score:\", fscore_5x)\n",
        "#------------------------------------10X-----------------------------------\n",
        "print(\"10x:\")\n",
        "print(\"Accuracy:\", accuracy_10x)\n",
        "print(\"Precision:\", precision_10x)\n",
        "print(\"Recall:\", recall_10x)\n",
        "print(\"F-score:\", fscore_10x)"
      ],
      "metadata": {
        "colab": {
          "base_uri": "https://localhost:8080/"
        },
        "id": "AyLNHDYXqWlE",
        "outputId": "966b5765-46ff-4c47-bf5a-254fae6316cf"
      },
      "execution_count": 324,
      "outputs": [
        {
          "output_type": "stream",
          "name": "stdout",
          "text": [
            "Original:\n",
            "Accuracy: 0.9680851063829787\n",
            "Precision: [0.96808511 0.        ]\n",
            "Recall: [1. 0.]\n",
            "F-score: [0.98378378 0.        ]\n",
            "2x:\n",
            "Accuracy: 1.0\n",
            "Precision: [1. 1.]\n",
            "Recall: [1. 1.]\n",
            "F-score: [1. 1.]\n",
            "5x:\n",
            "Accuracy: 1.0\n",
            "Precision: [1. 1.]\n",
            "Recall: [1. 1.]\n",
            "F-score: [1. 1.]\n",
            "10x:\n",
            "Accuracy: 1.0\n",
            "Precision: [1. 1.]\n",
            "Recall: [1. 1.]\n",
            "F-score: [1. 1.]\n"
          ]
        },
        {
          "output_type": "stream",
          "name": "stderr",
          "text": [
            "/usr/local/lib/python3.8/dist-packages/sklearn/metrics/_classification.py:1344: UndefinedMetricWarning: Precision and F-score are ill-defined and being set to 0.0 in labels with no predicted samples. Use `zero_division` parameter to control this behavior.\n",
            "  _warn_prf(average, modifier, msg_start, len(result))\n"
          ]
        }
      ]
    },
    {
      "cell_type": "code",
      "source": [
        "import matplotlib.pyplot as plt\n",
        "\n",
        "# Set the figure width to 8 inches and the height to 6 inches\n",
        "plt.figure(figsize=(18, 16))\n",
        "\n",
        "\n",
        "fig, ax = plt.subplots(nrows=1, ncols=4)\n",
        "plt.subplots_adjust(wspace=2, hspace=2)\n",
        "\n",
        "\n",
        "# Get the precision values for each classifier\n",
        "recall_0 = recall[0]\n",
        "recall_1 = recall[1]\n",
        "\n",
        "# Create the first subplot\n",
        "plt.subplot(1, 4, 1)\n",
        "plt.bar([\"0\", \"1\"], [recall_0, recall_1])\n",
        "plt.ylabel(\"Recall of Standard RFC\")\n",
        "plt.title(\"Original\")\n",
        "\n",
        "#------------------------------------2X-----------------------------------\n",
        "recall_0_2x = recall_2x[0]\n",
        "recall_1_2x = recall_2x[1]\n",
        "\n",
        "# Create the second subplot\n",
        "plt.subplot(1, 4, 2)\n",
        "plt.bar([\"0\", \"1\"], [recall_0_2x, recall_1_2x])\n",
        "plt.title(\"2x\")\n",
        "\n",
        "#------------------------------------5X-----------------------------------\n",
        "recall_0_5x = recall_5x[0]\n",
        "recall_1_5x = recall_5x[1]\n",
        "\n",
        "# Create the third subplot\n",
        "plt.subplot(1, 4, 3)\n",
        "plt.bar([\"0\", \"1\"], [recall_0_5x, recall_1_5x])\n",
        "plt.title(\"5x\")\n",
        "\n",
        "#------------------------------------10X-----------------------------------\n",
        "recall_0_10x = recall_10x[0]\n",
        "recall_1_10x = recall_10x[1]\n",
        "\n",
        "# Create the fourth subplot\n",
        "plt.subplot(1, 4, 4)\n",
        "plt.bar([\"0\", \"1\"], [recall_0_10x, recall_1_10x])\n",
        "plt.title(\"10x\")\n"
      ],
      "metadata": {
        "colab": {
          "base_uri": "https://localhost:8080/",
          "height": 316
        },
        "id": "x5jl1jGSxFV7",
        "outputId": "2b4552ba-13a4-49c9-c66c-6e8e9df55223"
      },
      "execution_count": 325,
      "outputs": [
        {
          "output_type": "execute_result",
          "data": {
            "text/plain": [
              "Text(0.5, 1.0, '10x')"
            ]
          },
          "metadata": {},
          "execution_count": 325
        },
        {
          "output_type": "display_data",
          "data": {
            "text/plain": [
              "<Figure size 1296x1152 with 0 Axes>"
            ]
          },
          "metadata": {}
        },
        {
          "output_type": "display_data",
          "data": {
            "text/plain": [
              "<Figure size 432x288 with 4 Axes>"
            ],
            "image/png": "[encoded data removed]"
          },
          "metadata": {
            "needs_background": "light"
          }
        }
      ]
    },
    {
      "cell_type": "markdown",
      "source": [
        "# **class-weighted RFC**"
      ],
      "metadata": {
        "id": "iUMbdG3Cg_pt"
      }
    },
    {
      "cell_type": "code",
      "source": [
        "from sklearn.ensemble import RandomForestClassifier\n",
        "\n",
        "#train random forest classifier on the train set\n",
        "class_weights = {0:1, 1:3}\n",
        "rf = RandomForestClassifier(class_weight=class_weights)\n",
        "rf.fit(X_train, y_train)\n",
        "\n",
        "#------------------------------------2X-----------------------------------\n",
        "rf_2x = RandomForestClassifier(class_weight=class_weights)\n",
        "rf_2x.fit(X_train_2x, y_train_2x)\n",
        "\n",
        "#------------------------------------5X-----------------------------------\n",
        "rf_5x = RandomForestClassifier(class_weight=class_weights)\n",
        "rf_5x.fit(X_train_5x, y_train_5x)\n",
        "\n",
        "#------------------------------------10X-----------------------------------\n",
        "rf_10x = RandomForestClassifier(class_weight=class_weights)\n",
        "rf_10x.fit(X_train_10x, y_train_10x)"
      ],
      "metadata": {
        "colab": {
          "base_uri": "https://localhost:8080/",
          "height": 75
        },
        "id": "vMlJZj7d0cEe",
        "outputId": "5f92f340-6cdf-4346-e9e4-dae0c8e5c6e4"
      },
      "execution_count": 326,
      "outputs": [
        {
          "output_type": "execute_result",
          "data": {
            "text/plain": [
              "RandomForestClassifier(class_weight={0: 1, 1: 3})"
            ],
            "text/html": [
              "<style>#sk-container-id-53 {color: black;background-color: white;}#sk-container-id-53 pre{padding: 0;}#sk-container-id-53 div.sk-toggleable {background-color: white;}#sk-container-id-53 label.sk-toggleable__label {cursor: pointer;display: block;width: 100%;margin-bottom: 0;padding: 0.3em;box-sizing: border-box;text-align: center;}#sk-container-id-53 label.sk-toggleable__label-arrow:before {content: \"▸\";float: left;margin-right: 0.25em;color: #696969;}#sk-container-id-53 label.sk-toggleable__label-arrow:hover:before {color: black;}#sk-container-id-53 div.sk-estimator:hover label.sk-toggleable__label-arrow:before {color: black;}#sk-container-id-53 div.sk-toggleable__content {max-height: 0;max-width: 0;overflow: hidden;text-align: left;background-color: #f0f8ff;}#sk-container-id-53 div.sk-toggleable__content pre {margin: 0.2em;color: black;border-radius: 0.25em;background-color: #f0f8ff;}#sk-container-id-53 input.sk-toggleable__control:checked~div.sk-toggleable__content {max-height: 200px;max-width: 100%;overflow: auto;}#sk-container-id-53 input.sk-toggleable__control:checked~label.sk-toggleable__label-arrow:before {content: \"▾\";}#sk-container-id-53 div.sk-estimator input.sk-toggleable__control:checked~label.sk-toggleable__label {background-color: #d4ebff;}#sk-container-id-53 div.sk-label input.sk-toggleable__control:checked~label.sk-toggleable__label {background-color: #d4ebff;}#sk-container-id-53 input.sk-hidden--visually {border: 0;clip: rect(1px 1px 1px 1px);clip: rect(1px, 1px, 1px, 1px);height: 1px;margin: -1px;overflow: hidden;padding: 0;position: absolute;width: 1px;}#sk-container-id-53 div.sk-estimator {font-family: monospace;background-color: #f0f8ff;border: 1px dotted black;border-radius: 0.25em;box-sizing: border-box;margin-bottom: 0.5em;}#sk-container-id-53 div.sk-estimator:hover {background-color: #d4ebff;}#sk-container-id-53 div.sk-parallel-item::after {content: \"\";width: 100%;border-bottom: 1px solid gray;flex-grow: 1;}#sk-container-id-53 div.sk-label:hover label.sk-toggleable__label {background-color: #d4ebff;}#sk-container-id-53 div.sk-serial::before {content: \"\";position: absolute;border-left: 1px solid gray;box-sizing: border-box;top: 0;bottom: 0;left: 50%;z-index: 0;}#sk-container-id-53 div.sk-serial {display: flex;flex-direction: column;align-items: center;background-color: white;padding-right: 0.2em;padding-left: 0.2em;position: relative;}#sk-container-id-53 div.sk-item {position: relative;z-index: 1;}#sk-container-id-53 div.sk-parallel {display: flex;align-items: stretch;justify-content: center;background-color: white;position: relative;}#sk-container-id-53 div.sk-item::before, #sk-container-id-53 div.sk-parallel-item::before {content: \"\";position: absolute;border-left: 1px solid gray;box-sizing: border-box;top: 0;bottom: 0;left: 50%;z-index: -1;}#sk-container-id-53 div.sk-parallel-item {display: flex;flex-direction: column;z-index: 1;position: relative;background-color: white;}#sk-container-id-53 div.sk-parallel-item:first-child::after {align-self: flex-end;width: 50%;}#sk-container-id-53 div.sk-parallel-item:last-child::after {align-self: flex-start;width: 50%;}#sk-container-id-53 div.sk-parallel-item:only-child::after {width: 0;}#sk-container-id-53 div.sk-dashed-wrapped {border: 1px dashed gray;margin: 0 0.4em 0.5em 0.4em;box-sizing: border-box;padding-bottom: 0.4em;background-color: white;}#sk-container-id-53 div.sk-label label {font-family: monospace;font-weight: bold;display: inline-block;line-height: 1.2em;}#sk-container-id-53 div.sk-label-container {text-align: center;}#sk-container-id-53 div.sk-container {/* jupyter's `normalize.less` sets `[hidden] { display: none; }` but bootstrap.min.css set `[hidden] { display: none !important; }` so we also need the `!important` here to be able to override the default hidden behavior on the sphinx rendered scikit-learn.org. See: https://github.com/scikit-learn/scikit-learn/issues/21755 */display: inline-block !important;position: relative;}#sk-container-id-53 div.sk-text-repr-fallback {display: none;}</style><div id=\"sk-container-id-53\" class=\"sk-top-container\"><div class=\"sk-text-repr-fallback\"><pre>RandomForestClassifier(class_weight={0: 1, 1: 3})</pre><b>In a Jupyter environment, please rerun this cell to show the HTML representation or trust the notebook. <br />On GitHub, the HTML representation is unable to render, please try loading this page with nbviewer.org.</b></div><div class=\"sk-container\" hidden><div class=\"sk-item\"><div class=\"sk-estimator sk-toggleable\"><input class=\"sk-toggleable__control sk-hidden--visually\" id=\"sk-estimator-id-53\" type=\"checkbox\" checked><label for=\"sk-estimator-id-53\" class=\"sk-toggleable__label sk-toggleable__label-arrow\">RandomForestClassifier</label><div class=\"sk-toggleable__content\"><pre>RandomForestClassifier(class_weight={0: 1, 1: 3})</pre></div></div></div></div></div>"
            ]
          },
          "metadata": {},
          "execution_count": 326
        }
      ]
    },
    {
      "cell_type": "code",
      "source": [
        "# Make predictions on the test set\n",
        "y_pred = rf.predict(X_test)\n",
        "accuracy = rf.score(X_test, y_test)\n",
        "\n",
        "y_pred_2x = rf_2x.predict(X_test_2x)\n",
        "accuracy_2x = rf_2x.score(X_test_2x, y_test_2x)\n",
        "\n",
        "y_pred_5x = rf_5x.predict(X_test_5x)\n",
        "accuracy_5x = rf_5x.score(X_test_5x, y_test_5x)\n",
        "\n",
        "y_pred_10x = rf_10x.predict(X_test_10x)\n",
        "accuracy_10x = rf_10x.score(X_test_10x, y_test_10x)"
      ],
      "metadata": {
        "id": "h1ZgGbJu0bpe"
      },
      "execution_count": 327,
      "outputs": []
    },
    {
      "cell_type": "code",
      "source": [
        "from sklearn.metrics import precision_recall_fscore_support\n",
        "\n",
        "precision, recall, fscore, support = precision_recall_fscore_support(y_test, y_pred)\n",
        "\n",
        "precision_2x, recall_2x, fscore_2x, support_2x = precision_recall_fscore_support(y_test_2x, y_pred_2x)\n",
        "\n",
        "precision_5x, recall_5x, fscore_5x, support_5x = precision_recall_fscore_support(y_test_5x, y_pred_5x)\n",
        "\n",
        "precision_10x, recall_10x, fscore_10x, support_10x = precision_recall_fscore_support(y_test_10x, y_pred_10x)\n",
        "\n",
        "\n",
        "# Print the evaluation metrics\n",
        "print(\"Original:\")\n",
        "print(\"Accuracy:\", accuracy)\n",
        "print(\"Precision:\", precision)\n",
        "print(\"Recall:\", recall)\n",
        "print(\"F-score:\", fscore)\n",
        "#------------------------------------2X-----------------------------------\n",
        "print(\"2x:\")\n",
        "print(\"Accuracy:\", accuracy_2x)\n",
        "print(\"Precision:\", precision_2x)\n",
        "print(\"Recall:\", recall_2x)\n",
        "print(\"F-score:\", fscore_2x)\n",
        "#------------------------------------5X-----------------------------------\n",
        "print(\"5x:\")\n",
        "print(\"Accuracy:\", accuracy_5x)\n",
        "print(\"Precision:\", precision_5x)\n",
        "print(\"Recall:\", recall_5x)\n",
        "print(\"F-score:\", fscore_5x)\n",
        "#------------------------------------10X-----------------------------------\n",
        "print(\"10x:\")\n",
        "print(\"Accuracy:\", accuracy_10x)\n",
        "print(\"Precision:\", precision_10x)\n",
        "print(\"Recall:\", recall_10x)\n",
        "print(\"F-score:\", fscore_10x)"
      ],
      "metadata": {
        "colab": {
          "base_uri": "https://localhost:8080/"
        },
        "id": "oJFlCl9H0bmP",
        "outputId": "1b5a7b6e-66da-447d-f451-47ccc564a9c3"
      },
      "execution_count": 328,
      "outputs": [
        {
          "output_type": "stream",
          "name": "stdout",
          "text": [
            "Original:\n",
            "Accuracy: 0.973404255319149\n",
            "Precision: [0.97326203 1.        ]\n",
            "Recall: [1.         0.16666667]\n",
            "F-score: [0.98644986 0.28571429]\n",
            "2x:\n",
            "Accuracy: 1.0\n",
            "Precision: [1. 1.]\n",
            "Recall: [1. 1.]\n",
            "F-score: [1. 1.]\n",
            "5x:\n",
            "Accuracy: 1.0\n",
            "Precision: [1. 1.]\n",
            "Recall: [1. 1.]\n",
            "F-score: [1. 1.]\n",
            "10x:\n",
            "Accuracy: 1.0\n",
            "Precision: [1. 1.]\n",
            "Recall: [1. 1.]\n",
            "F-score: [1. 1.]\n"
          ]
        }
      ]
    },
    {
      "cell_type": "code",
      "source": [
        "import matplotlib.pyplot as plt\n",
        "\n",
        "# Set the figure width to 8 inches and the height to 6 inches\n",
        "plt.figure(figsize=(18, 16))\n",
        "\n",
        "\n",
        "fig, ax = plt.subplots(nrows=1, ncols=4)\n",
        "plt.subplots_adjust(wspace=2, hspace=2)\n",
        "\n",
        "\n",
        "# Get the precision values for each classifier\n",
        "recall_0 = recall[0]\n",
        "recall_1 = recall[1]\n",
        "\n",
        "# Create the first subplot\n",
        "plt.subplot(1, 4, 1)\n",
        "plt.bar([\"0\", \"1\"], [recall_0, recall_1])\n",
        "plt.ylabel(\"recall on Class-weighted method\")\n",
        "plt.title(\"Original\")\n",
        "\n",
        "#------------------------------------2X-----------------------------------\n",
        "recall_0_2x = recall_2x[0]\n",
        "recall_1_2x = recall_2x[1]\n",
        "\n",
        "# Create the second subplot\n",
        "plt.subplot(1, 4, 2)\n",
        "plt.bar([\"0\", \"1\"], [recall_0_2x, recall_1_2x])\n",
        "plt.title(\"2x\")\n",
        "\n",
        "#------------------------------------5X-----------------------------------\n",
        "recall_0_5x = recall_5x[0]\n",
        "recall_1_5x = recall_5x[1]\n",
        "\n",
        "# Create the third subplot\n",
        "plt.subplot(1, 4, 3)\n",
        "plt.bar([\"0\", \"1\"], [recall_0_5x, recall_1_5x])\n",
        "plt.title(\"5x\")\n",
        "\n",
        "#------------------------------------10X-----------------------------------\n",
        "recall_0_10x = recall_10x[0]\n",
        "recall_1_10x = recall_10x[1]\n",
        "\n",
        "# Create the fourth subplot\n",
        "plt.subplot(1, 4, 4)\n",
        "plt.bar([\"0\", \"1\"], [recall_0_10x, recall_1_10x])\n",
        "plt.title(\"10x\")\n"
      ],
      "metadata": {
        "colab": {
          "base_uri": "https://localhost:8080/",
          "height": 316
        },
        "id": "Lo9L9UqM0bjR",
        "outputId": "5eac9f40-aac5-4582-9886-d718b0de387a"
      },
      "execution_count": 329,
      "outputs": [
        {
          "output_type": "execute_result",
          "data": {
            "text/plain": [
              "Text(0.5, 1.0, '10x')"
            ]
          },
          "metadata": {},
          "execution_count": 329
        },
        {
          "output_type": "display_data",
          "data": {
            "text/plain": [
              "<Figure size 1296x1152 with 0 Axes>"
            ]
          },
          "metadata": {}
        },
        {
          "output_type": "display_data",
          "data": {
            "text/plain": [
              "<Figure size 432x288 with 4 Axes>"
            ],
            "image/png": "[encoded data removed]"
          },
          "metadata": {
            "needs_background": "light"
          }
        }
      ]
    },
    {
      "cell_type": "markdown",
      "source": [
        "# **Undersampling RFC**"
      ],
      "metadata": {
        "id": "4m2xq6q21kjJ"
      }
    },
    {
      "cell_type": "code",
      "source": [
        "!pip install imblearn"
      ],
      "metadata": {
        "id": "41t2ehQJ0bgb",
        "colab": {
          "base_uri": "https://localhost:8080/"
        },
        "outputId": "791ae7d0-6357-450c-8fd5-e8e6fe61ee66"
      },
      "execution_count": 330,
      "outputs": [
        {
          "output_type": "stream",
          "name": "stdout",
          "text": [
            "Looking in indexes: https://pypi.org/simple, https://us-python.pkg.dev/colab-wheels/public/simple/\n",
            "Requirement already satisfied: imblearn in /usr/local/lib/python3.8/dist-packages (0.0)\n",
            "Requirement already satisfied: imbalanced-learn in /usr/local/lib/python3.8/dist-packages (from imblearn) (0.10.1)\n",
            "Requirement already satisfied: threadpoolctl>=2.0.0 in /usr/local/lib/python3.8/dist-packages (from imbalanced-learn->imblearn) (3.1.0)\n",
            "Requirement already satisfied: numpy>=1.17.3 in /usr/local/lib/python3.8/dist-packages (from imbalanced-learn->imblearn) (1.21.6)\n",
            "Requirement already satisfied: scipy>=1.3.2 in /usr/local/lib/python3.8/dist-packages (from imbalanced-learn->imblearn) (1.7.3)\n",
            "Requirement already satisfied: scikit-learn>=1.0.2 in /usr/local/lib/python3.8/dist-packages (from imbalanced-learn->imblearn) (1.2.0)\n",
            "Requirement already satisfied: joblib>=1.1.1 in /usr/local/lib/python3.8/dist-packages (from imbalanced-learn->imblearn) (1.2.0)\n"
          ]
        }
      ]
    },
    {
      "cell_type": "code",
      "source": [
        "from imblearn.ensemble import BalancedRandomForestClassifier\n",
        "\n",
        "#train random forest classifier on the train set\n",
        "brf = BalancedRandomForestClassifier()\n",
        "brf.fit(X_train, y_train)\n",
        "\n",
        "#------------------------------------2X-----------------------------------\n",
        "brf_2x = BalancedRandomForestClassifier()\n",
        "brf_2x.fit(X_train_2x, y_train_2x)\n",
        "\n",
        "#------------------------------------5X-----------------------------------\n",
        "brf_5x = RandomForestClassifier()\n",
        "brf_5x.fit(X_train_5x, y_train_5x)\n",
        "\n",
        "#------------------------------------10X-----------------------------------\n",
        "brf_10x = RandomForestClassifier()\n",
        "brf_10x.fit(X_train_10x, y_train_10x)"
      ],
      "metadata": {
        "id": "nBuI85E70bdo",
        "colab": {
          "base_uri": "https://localhost:8080/",
          "height": 75
        },
        "outputId": "fe2cc872-8177-4923-8bbe-9025cd8b2242"
      },
      "execution_count": 331,
      "outputs": [
        {
          "output_type": "execute_result",
          "data": {
            "text/plain": [
              "RandomForestClassifier()"
            ],
            "text/html": [
              "<style>#sk-container-id-54 {color: black;background-color: white;}#sk-container-id-54 pre{padding: 0;}#sk-container-id-54 div.sk-toggleable {background-color: white;}#sk-container-id-54 label.sk-toggleable__label {cursor: pointer;display: block;width: 100%;margin-bottom: 0;padding: 0.3em;box-sizing: border-box;text-align: center;}#sk-container-id-54 label.sk-toggleable__label-arrow:before {content: \"▸\";float: left;margin-right: 0.25em;color: #696969;}#sk-container-id-54 label.sk-toggleable__label-arrow:hover:before {color: black;}#sk-container-id-54 div.sk-estimator:hover label.sk-toggleable__label-arrow:before {color: black;}#sk-container-id-54 div.sk-toggleable__content {max-height: 0;max-width: 0;overflow: hidden;text-align: left;background-color: #f0f8ff;}#sk-container-id-54 div.sk-toggleable__content pre {margin: 0.2em;color: black;border-radius: 0.25em;background-color: #f0f8ff;}#sk-container-id-54 input.sk-toggleable__control:checked~div.sk-toggleable__content {max-height: 200px;max-width: 100%;overflow: auto;}#sk-container-id-54 input.sk-toggleable__control:checked~label.sk-toggleable__label-arrow:before {content: \"▾\";}#sk-container-id-54 div.sk-estimator input.sk-toggleable__control:checked~label.sk-toggleable__label {background-color: #d4ebff;}#sk-container-id-54 div.sk-label input.sk-toggleable__control:checked~label.sk-toggleable__label {background-color: #d4ebff;}#sk-container-id-54 input.sk-hidden--visually {border: 0;clip: rect(1px 1px 1px 1px);clip: rect(1px, 1px, 1px, 1px);height: 1px;margin: -1px;overflow: hidden;padding: 0;position: absolute;width: 1px;}#sk-container-id-54 div.sk-estimator {font-family: monospace;background-color: #f0f8ff;border: 1px dotted black;border-radius: 0.25em;box-sizing: border-box;margin-bottom: 0.5em;}#sk-container-id-54 div.sk-estimator:hover {background-color: #d4ebff;}#sk-container-id-54 div.sk-parallel-item::after {content: \"\";width: 100%;border-bottom: 1px solid gray;flex-grow: 1;}#sk-container-id-54 div.sk-label:hover label.sk-toggleable__label {background-color: #d4ebff;}#sk-container-id-54 div.sk-serial::before {content: \"\";position: absolute;border-left: 1px solid gray;box-sizing: border-box;top: 0;bottom: 0;left: 50%;z-index: 0;}#sk-container-id-54 div.sk-serial {display: flex;flex-direction: column;align-items: center;background-color: white;padding-right: 0.2em;padding-left: 0.2em;position: relative;}#sk-container-id-54 div.sk-item {position: relative;z-index: 1;}#sk-container-id-54 div.sk-parallel {display: flex;align-items: stretch;justify-content: center;background-color: white;position: relative;}#sk-container-id-54 div.sk-item::before, #sk-container-id-54 div.sk-parallel-item::before {content: \"\";position: absolute;border-left: 1px solid gray;box-sizing: border-box;top: 0;bottom: 0;left: 50%;z-index: -1;}#sk-container-id-54 div.sk-parallel-item {display: flex;flex-direction: column;z-index: 1;position: relative;background-color: white;}#sk-container-id-54 div.sk-parallel-item:first-child::after {align-self: flex-end;width: 50%;}#sk-container-id-54 div.sk-parallel-item:last-child::after {align-self: flex-start;width: 50%;}#sk-container-id-54 div.sk-parallel-item:only-child::after {width: 0;}#sk-container-id-54 div.sk-dashed-wrapped {border: 1px dashed gray;margin: 0 0.4em 0.5em 0.4em;box-sizing: border-box;padding-bottom: 0.4em;background-color: white;}#sk-container-id-54 div.sk-label label {font-family: monospace;font-weight: bold;display: inline-block;line-height: 1.2em;}#sk-container-id-54 div.sk-label-container {text-align: center;}#sk-container-id-54 div.sk-container {/* jupyter's `normalize.less` sets `[hidden] { display: none; }` but bootstrap.min.css set `[hidden] { display: none !important; }` so we also need the `!important` here to be able to override the default hidden behavior on the sphinx rendered scikit-learn.org. See: https://github.com/scikit-learn/scikit-learn/issues/21755 */display: inline-block !important;position: relative;}#sk-container-id-54 div.sk-text-repr-fallback {display: none;}</style><div id=\"sk-container-id-54\" class=\"sk-top-container\"><div class=\"sk-text-repr-fallback\"><pre>RandomForestClassifier()</pre><b>In a Jupyter environment, please rerun this cell to show the HTML representation or trust the notebook. <br />On GitHub, the HTML representation is unable to render, please try loading this page with nbviewer.org.</b></div><div class=\"sk-container\" hidden><div class=\"sk-item\"><div class=\"sk-estimator sk-toggleable\"><input class=\"sk-toggleable__control sk-hidden--visually\" id=\"sk-estimator-id-54\" type=\"checkbox\" checked><label for=\"sk-estimator-id-54\" class=\"sk-toggleable__label sk-toggleable__label-arrow\">RandomForestClassifier</label><div class=\"sk-toggleable__content\"><pre>RandomForestClassifier()</pre></div></div></div></div></div>"
            ]
          },
          "metadata": {},
          "execution_count": 331
        }
      ]
    },
    {
      "cell_type": "code",
      "source": [
        "# Make predictions on the test set\n",
        "y_pred = brf.predict(X_test)\n",
        "accuracy = brf.score(X_test, y_test)\n",
        "\n",
        "y_pred_2x = brf_2x.predict(X_test_2x)\n",
        "accuracy_2x = brf_2x.score(X_test_2x, y_test_2x)\n",
        "\n",
        "y_pred_5x = brf_5x.predict(X_test_5x)\n",
        "accuracy_5x = brf_5x.score(X_test_5x, y_test_5x)\n",
        "\n",
        "y_pred_10x = brf_10x.predict(X_test_10x)\n",
        "accuracy_10x = brf_10x.score(X_test_10x, y_test_10x)\n"
      ],
      "metadata": {
        "id": "95viV4bo0ban"
      },
      "execution_count": 332,
      "outputs": []
    },
    {
      "cell_type": "code",
      "source": [
        "from sklearn.metrics import precision_recall_fscore_support\n",
        "\n",
        "precision, recall, fscore, support = precision_recall_fscore_support(y_test, y_pred)\n",
        "\n",
        "precision_2x, recall_2x, fscore_2x, support_2x = precision_recall_fscore_support(y_test_2x, y_pred_2x)\n",
        "\n",
        "precision_5x, recall_5x, fscore_5x, support_5x = precision_recall_fscore_support(y_test_5x, y_pred_5x)\n",
        "\n",
        "precision_10x, recall_10x, fscore_10x, support_10x = precision_recall_fscore_support(y_test_10x, y_pred_10x)\n",
        "\n",
        "\n",
        "# Print the evaluation metrics\n",
        "print(\"Original:\")\n",
        "print(\"Accuracy:\", accuracy)\n",
        "print(\"Precision:\", precision)\n",
        "print(\"Recall:\", recall)\n",
        "print(\"F-score:\", fscore)\n",
        "#------------------------------------2X-----------------------------------\n",
        "print(\"2x:\")\n",
        "print(\"Accuracy:\", accuracy_2x)\n",
        "print(\"Precision:\", precision_2x)\n",
        "print(\"Recall:\", recall_2x)\n",
        "print(\"F-score:\", fscore_2x)\n",
        "#------------------------------------5X-----------------------------------\n",
        "print(\"5x:\")\n",
        "print(\"Accuracy:\", accuracy_5x)\n",
        "print(\"Precision:\", precision_5x)\n",
        "print(\"Recall:\", recall_5x)\n",
        "print(\"F-score:\", fscore_5x)\n",
        "#------------------------------------10X-----------------------------------\n",
        "print(\"10x:\")\n",
        "print(\"Accuracy:\", accuracy_10x)\n",
        "print(\"Precision:\", precision_10x)\n",
        "print(\"Recall:\", recall_10x)\n",
        "print(\"F-score:\", fscore_10x)"
      ],
      "metadata": {
        "id": "PsquZ2PC3YnR",
        "colab": {
          "base_uri": "https://localhost:8080/"
        },
        "outputId": "7e627d21-1429-465b-a60d-0693b5de4f92"
      },
      "execution_count": 333,
      "outputs": [
        {
          "output_type": "stream",
          "name": "stdout",
          "text": [
            "Original:\n",
            "Accuracy: 0.8404255319148937\n",
            "Precision: [0.98717949 0.125     ]\n",
            "Recall: [0.84615385 0.66666667]\n",
            "F-score: [0.9112426  0.21052632]\n",
            "2x:\n",
            "Accuracy: 0.928\n",
            "Precision: [1.         0.37209302]\n",
            "Recall: [0.92479109 1.        ]\n",
            "F-score: [0.96092619 0.54237288]\n",
            "5x:\n",
            "Accuracy: 1.0\n",
            "Precision: [1. 1.]\n",
            "Recall: [1. 1.]\n",
            "F-score: [1. 1.]\n",
            "10x:\n",
            "Accuracy: 1.0\n",
            "Precision: [1. 1.]\n",
            "Recall: [1. 1.]\n",
            "F-score: [1. 1.]\n"
          ]
        }
      ]
    },
    {
      "cell_type": "code",
      "source": [
        "import matplotlib.pyplot as plt\n",
        "\n",
        "# Set the figure width to 8 inches and the height to 6 inches\n",
        "plt.figure(figsize=(18, 16))\n",
        "\n",
        "\n",
        "fig, ax = plt.subplots(nrows=1, ncols=4)\n",
        "plt.subplots_adjust(wspace=2, hspace=2)\n",
        "\n",
        "\n",
        "# Get the precision values for each classifier\n",
        "recall_0 = recall[0]\n",
        "recall_1 = recall[1]\n",
        "\n",
        "# Create the first subplot\n",
        "plt.subplot(1, 4, 1)\n",
        "plt.bar([\"0\", \"1\"], [recall_0, recall_1])\n",
        "plt.ylabel(\"recall on Undersampling method\")\n",
        "plt.title(\"Original\")\n",
        "\n",
        "#------------------------------------2X-----------------------------------\n",
        "recall_0_2x = recall_2x[0]\n",
        "recall_1_2x = recall_2x[1]\n",
        "\n",
        "# Create the second subplot\n",
        "plt.subplot(1, 4, 2)\n",
        "plt.bar([\"0\", \"1\"], [recall_0_2x, recall_1_2x])\n",
        "plt.title(\"2x\")\n",
        "\n",
        "#------------------------------------5X-----------------------------------\n",
        "recall_0_5x = recall_5x[0]\n",
        "recall_1_5x = recall_5x[1]\n",
        "\n",
        "# Create the third subplot\n",
        "plt.subplot(1, 4, 3)\n",
        "plt.bar([\"0\", \"1\"], [recall_0_5x, recall_1_5x])\n",
        "plt.title(\"5x\")\n",
        "\n",
        "#------------------------------------10X-----------------------------------\n",
        "recall_0_10x = recall_10x[0]\n",
        "recall_1_10x = recall_10x[1]\n",
        "\n",
        "# Create the fourth subplot\n",
        "plt.subplot(1, 4, 4)\n",
        "plt.bar([\"0\", \"1\"], [recall_0_10x, recall_1_10x])\n",
        "plt.title(\"10x\")\n"
      ],
      "metadata": {
        "id": "xebO2GeN3dXu",
        "colab": {
          "base_uri": "https://localhost:8080/",
          "height": 316
        },
        "outputId": "b05ff8ae-f604-4bb7-a21f-f05e04e082c0"
      },
      "execution_count": 334,
      "outputs": [
        {
          "output_type": "execute_result",
          "data": {
            "text/plain": [
              "Text(0.5, 1.0, '10x')"
            ]
          },
          "metadata": {},
          "execution_count": 334
        },
        {
          "output_type": "display_data",
          "data": {
            "text/plain": [
              "<Figure size 1296x1152 with 0 Axes>"
            ]
          },
          "metadata": {}
        },
        {
          "output_type": "display_data",
          "data": {
            "text/plain": [
              "<Figure size 432x288 with 4 Axes>"
            ],
            "image/png": "[encoded data removed]"
          },
          "metadata": {
            "needs_background": "light"
          }
        }
      ]
    },
    {
      "cell_type": "code",
      "source": [],
      "metadata": {
        "id": "6eoUdMQH3dUk"
      },
      "execution_count": 334,
      "outputs": []
    }
  ]
}